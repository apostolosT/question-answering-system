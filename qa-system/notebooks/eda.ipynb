{
 "cells": [
  {
   "cell_type": "code",
   "execution_count": 4,
   "metadata": {},
   "outputs": [
    {
     "name": "stdout",
     "output_type": "stream",
     "text": [
      "Length of data:  442\n",
      "Data Keys:  dict_keys(['title', 'paragraphs'])\n",
      "Title:  University_of_Notre_Dame\n"
     ]
    }
   ],
   "source": [
    "import pandas as pd\n",
    "import pickle\n",
    "from src.data import utils\n",
    "\n",
    "data = utils.load_json('../datasets/squad/raw/SQuAD-v1.1-train.json')\n",
    "data_df = pd.DataFrame(utils.parse_data(data))"
   ]
  },
  {
   "cell_type": "code",
   "execution_count": 10,
   "metadata": {},
   "outputs": [],
   "source": [
    "WORD2IDX_PATH = '../datasets/squad/processed/word2idx.pickle'\n",
    "IDX2WORD_PATH = '../datasets/squad/processed/idx2word.pickle'\n",
    "WORD_VOCAB_PATH = '../datasets/squad/processed/word_vocab.pickle'\n",
    "TRAIN_SET_PATH = '../datasets/squad/processed/train.pickle'\n",
    "\n",
    "with open(WORD2IDX_PATH, 'rb') as f:\n",
    "    word2idx = pickle.load(f)\n",
    "\n",
    "with open(IDX2WORD_PATH, 'rb') as f:\n",
    "    idx2word = pickle.load(f)\n",
    "\n",
    "with open(WORD_VOCAB_PATH, 'rb') as f:\n",
    "    word_vocab = pickle.load(f)\n",
    "\n",
    "train_df = pd.read_pickle(TRAIN_SET_PATH)"
   ]
  },
  {
   "cell_type": "code",
   "execution_count": 11,
   "metadata": {},
   "outputs": [
    {
     "data": {
      "text/html": [
       "<div>\n",
       "<style scoped>\n",
       "    .dataframe tbody tr th:only-of-type {\n",
       "        vertical-align: middle;\n",
       "    }\n",
       "\n",
       "    .dataframe tbody tr th {\n",
       "        vertical-align: top;\n",
       "    }\n",
       "\n",
       "    .dataframe thead th {\n",
       "        text-align: right;\n",
       "    }\n",
       "</style>\n",
       "<table border=\"1\" class=\"dataframe\">\n",
       "  <thead>\n",
       "    <tr style=\"text-align: right;\">\n",
       "      <th></th>\n",
       "      <th>id</th>\n",
       "      <th>context</th>\n",
       "      <th>question</th>\n",
       "      <th>label</th>\n",
       "      <th>answer</th>\n",
       "      <th>context_ids</th>\n",
       "      <th>question_ids</th>\n",
       "      <th>label_idx</th>\n",
       "    </tr>\n",
       "  </thead>\n",
       "  <tbody>\n",
       "    <tr>\n",
       "      <th>0</th>\n",
       "      <td>5733be284776f41900661182</td>\n",
       "      <td>Architecturally, the school has a Catholic cha...</td>\n",
       "      <td>To whom did the Virgin Mary allegedly appear i...</td>\n",
       "      <td>[515, 541]</td>\n",
       "      <td>Saint Bernadette Soubirous</td>\n",
       "      <td>[45537, 3, 2, 209, 42, 10, 552, 814, 5, 61711,...</td>\n",
       "      <td>[403, 584, 25, 2, 3434, 857, 6266, 1067, 8, 85...</td>\n",
       "      <td>[102, 104]</td>\n",
       "    </tr>\n",
       "  </tbody>\n",
       "</table>\n",
       "</div>"
      ],
      "text/plain": [
       "                         id  \\\n",
       "0  5733be284776f41900661182   \n",
       "\n",
       "                                             context  \\\n",
       "0  Architecturally, the school has a Catholic cha...   \n",
       "\n",
       "                                            question       label  \\\n",
       "0  To whom did the Virgin Mary allegedly appear i...  [515, 541]   \n",
       "\n",
       "                       answer  \\\n",
       "0  Saint Bernadette Soubirous   \n",
       "\n",
       "                                         context_ids  \\\n",
       "0  [45537, 3, 2, 209, 42, 10, 552, 814, 5, 61711,...   \n",
       "\n",
       "                                        question_ids   label_idx  \n",
       "0  [403, 584, 25, 2, 3434, 857, 6266, 1067, 8, 85...  [102, 104]  "
      ]
     },
     "execution_count": 11,
     "metadata": {},
     "output_type": "execute_result"
    }
   ],
   "source": [
    "train_df.head(1)"
   ]
  },
  {
   "cell_type": "code",
   "execution_count": 13,
   "metadata": {},
   "outputs": [
    {
     "name": "stdout",
     "output_type": "stream",
     "text": [
      "max_question_lenth: 60, max_context_length: 809\n"
     ]
    }
   ],
   "source": [
    "max_context_length = max(len(ctx) for ctx in train_df.context_ids)\n",
    "max_question_lenth = max(len(ctx) for ctx in train_df.question_ids)\n",
    "print(f\"max_question_lenth: {max_question_lenth}, max_context_length: {max_context_length}\")"
   ]
  }
 ],
 "metadata": {
  "kernelspec": {
   "display_name": "Python 3.10.6 64-bit ('qa-system')",
   "language": "python",
   "name": "python3"
  },
  "language_info": {
   "codemirror_mode": {
    "name": "ipython",
    "version": 3
   },
   "file_extension": ".py",
   "mimetype": "text/x-python",
   "name": "python",
   "nbconvert_exporter": "python",
   "pygments_lexer": "ipython3",
   "version": "3.10.6"
  },
  "orig_nbformat": 4,
  "vscode": {
   "interpreter": {
    "hash": "d1b6a14a15e8fc5716b2523bb5531442a9f520348a618b5cee997c60f6fc8373"
   }
  }
 },
 "nbformat": 4,
 "nbformat_minor": 2
}
